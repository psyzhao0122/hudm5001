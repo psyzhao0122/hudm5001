{
 "cells": [
  {
   "cell_type": "markdown",
   "metadata": {
    "tags": []
   },
   "source": [
    "## School Cheer\n",
    "### Application of Control Structures\n",
    "\n",
    "\n",
    "### Programming for Data Science\n",
    "### Last Updated: Jan 15, 2023\n",
    "---"
   ]
  },
  {
   "cell_type": "markdown",
   "metadata": {},
   "source": [
    "### Objectives: \n",
    "- Apply control structures: for-loop, if statement\n",
    "\n",
    "### Executive Summary\n",
    "\n",
    "Print the numbers from 1 to 100 with these modifications:\n",
    "\n",
    "- If the number is divisible by 3, print Wahoo instead of the number\n",
    "- If the number is divisible by 5, print wah! instead of the number\n",
    "- If the number is divisible by 3 and 5 both, print Wahoowah! instead of the number\n",
    "\n",
    "---  \n",
    "\n",
    "**<center> TOTAL POINTS: 10 </center>**  \n",
    "**<center> RUBRIC </center>**  \n",
    "\n",
    "|     | PTS |\n",
    "------ | ------\n",
    "| Attempt | 4 |\n",
    "| One label correct | 6 |\n",
    "| Two labels correct | 8 |\n",
    "| All correct| 10 |\n"
   ]
  },
  {
   "cell_type": "code",
   "execution_count": null,
   "metadata": {},
   "outputs": [],
   "source": []
  },
  {
   "cell_type": "markdown",
   "metadata": {},
   "source": [
    "---"
   ]
  }
 ],
 "metadata": {
  "kernelspec": {
   "display_name": "Python 3 (ipykernel)",
   "language": "python",
   "name": "python3"
  },
  "language_info": {
   "codemirror_mode": {
    "name": "ipython",
    "version": 3
   },
   "file_extension": ".py",
   "mimetype": "text/x-python",
   "name": "python",
   "nbconvert_exporter": "python",
   "pygments_lexer": "ipython3",
   "version": "3.12.4"
  }
 },
 "nbformat": 4,
 "nbformat_minor": 4
}
