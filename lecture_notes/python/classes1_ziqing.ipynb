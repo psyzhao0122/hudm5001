{
 "cells": [
  {
   "cell_type": "markdown",
   "metadata": {},
   "source": [
    "## Classes I\n",
    "\n",
    "### Programming for Data Science\n",
    "### Last Updated: Jan 15, 2023\n",
    "---  \n",
    "\n",
    "### PREREQUISITES \n",
    "- variables\n",
    "- functions\n",
    "\n",
    "### SOURCES \n",
    "https://docs.python.org/3/tutorial/classes.html\n",
    "\n",
    "\n",
    "\n",
    "\n",
    "### OBJECTIVES\n",
    "Provide a brief intro to classes:\n",
    "- what they are\n",
    "- their benefits\n",
    "- how to use them\n",
    " \n",
    "\n",
    "### CONCEPTS\n",
    "\n",
    "- class\n",
    "- objects\n",
    "- instantiation\n",
    "- `__init__` function\n",
    "- attributes\n",
    "- methods\n",
    "\n",
    "---\n",
    "\n",
    "### Introduction to Objects and Classes\n",
    "\n",
    "When we work with things and reason about them, we generally think about their attributes, and what they can do.  \n",
    "For similar things, it can be helpful for group them into `objects` such as cars, homes, databases, or logistic regression models.  \n",
    "\n",
    "A `class` provides a template for creating an object, and for working with the object.\n",
    "For the case of the logistic regression model, it has `attributes` like:\n",
    "\n",
    "- weights\n",
    "- an optional intercept term\n",
    "- the maximum number of iterations\n",
    "\n",
    "These attributes help describe the object (they give the object's state).\n",
    "\n",
    "The logistic regression model has functionality such as:\n",
    "\n",
    "- the optimization routine used in training\n",
    "- a prediction function\n",
    "\n",
    "The functionality is supported by `methods`, which are functions included in the class.\n",
    "\n",
    "There are tremendous benefits to programming with objects, or object-oriented programming (OOP), such as:\n",
    "\n",
    "- objects are natural ways of defining, grouping, communicating, and thinking about things\n",
    "- objects are convenient for packaging together the data and functionality. it concisely says: what is in this thing, and what does it do?\n",
    "- it is simple to create as many copies of the object as you'd like\n",
    "- for more complex objects, they can take on all the attributes and methods of the simpler object. this is called `inheritance`.\n",
    "\n",
    "Ok, let's look at examples, starting with a very small, simple class.  \n",
    "The class contains:\n",
    "- a name (Ferrari458)\n",
    "- a docstring for a quick description\n",
    "- an attribute, which is number of cylinders in the engine\n",
    "- a method"
   ]
  },
  {
   "cell_type": "code",
   "execution_count": 2,
   "metadata": {},
   "outputs": [],
   "source": [
    "class Ferrari458:\n",
    "    \"\"\"this is a Ferrari 458 object\"\"\"\n",
    "    cylinders = 8\n",
    "\n",
    "    def print_origin(self):\n",
    "        return 'I was built in Italy!'"
   ]
  },
  {
   "cell_type": "markdown",
   "metadata": {},
   "source": [
    "You can learn about the class by printing the docstring:"
   ]
  },
  {
   "cell_type": "code",
   "execution_count": 4,
   "metadata": {},
   "outputs": [
    {
     "data": {
      "text/plain": [
       "'this is a Ferrari 458 object'"
      ]
     },
     "execution_count": 4,
     "metadata": {},
     "output_type": "execute_result"
    }
   ],
   "source": [
    "Ferrari458.__doc__"
   ]
  },
  {
   "cell_type": "markdown",
   "metadata": {},
   "source": [
    "You can also get detailed help like this:"
   ]
  },
  {
   "cell_type": "code",
   "execution_count": 29,
   "metadata": {},
   "outputs": [
    {
     "name": "stdout",
     "output_type": "stream",
     "text": [
      "Help on class Ferrari458 in module __main__:\n",
      "\n",
      "class Ferrari458(builtins.object)\n",
      " |  this is a Ferrari 458 object\n",
      " |\n",
      " |  Methods defined here:\n",
      " |\n",
      " |  print_origin(self)\n",
      " |\n",
      " |  ----------------------------------------------------------------------\n",
      " |  Data descriptors defined here:\n",
      " |\n",
      " |  __dict__\n",
      " |      dictionary for instance variables\n",
      " |\n",
      " |  __weakref__\n",
      " |      list of weak references to the object\n",
      " |\n",
      " |  ----------------------------------------------------------------------\n",
      " |  Data and other attributes defined here:\n",
      " |\n",
      " |  cylinders = 8\n",
      "\n"
     ]
    }
   ],
   "source": [
    "help(Ferrari458)"
   ]
  },
  {
   "cell_type": "markdown",
   "metadata": {},
   "source": [
    "Next, we create an object from the class (also called an `instance` of the class).  \n",
    "It is called like a function with no parameters.  The process is called `instantiation.`"
   ]
  },
  {
   "cell_type": "code",
   "execution_count": 6,
   "metadata": {},
   "outputs": [],
   "source": [
    "myferrari = Ferrari458()"
   ]
  },
  {
   "cell_type": "markdown",
   "metadata": {},
   "source": [
    "We show the number of cylinders by using the `object.attribute` format:"
   ]
  },
  {
   "cell_type": "code",
   "execution_count": 8,
   "metadata": {},
   "outputs": [
    {
     "data": {
      "text/plain": [
       "8"
      ]
     },
     "execution_count": 8,
     "metadata": {},
     "output_type": "execute_result"
    }
   ],
   "source": [
    "myferrari.cylinders"
   ]
  },
  {
   "cell_type": "markdown",
   "metadata": {},
   "source": [
    "Then we call its method `print_origin` to learn where this sweet machine was built."
   ]
  },
  {
   "cell_type": "code",
   "execution_count": 10,
   "metadata": {},
   "outputs": [
    {
     "data": {
      "text/plain": [
       "'I was built in Italy!'"
      ]
     },
     "execution_count": 10,
     "metadata": {},
     "output_type": "execute_result"
    }
   ],
   "source": [
    "myferrari.print_origin()"
   ]
  },
  {
   "cell_type": "markdown",
   "metadata": {},
   "source": [
    "As a convention, methods take `self` as their first argument. Methods can use `self.attribute` to extract their attributes.  \n",
    "Here is an example, with method `get_cylinders`.这个括号里面的self可以改成任意，比如a"
   ]
  },
  {
   "cell_type": "code",
   "execution_count": 12,
   "metadata": {},
   "outputs": [],
   "source": [
    "class Ferrari458_v2:\n",
    "    \"\"\"this is a Ferrari 458 object\"\"\"\n",
    "    cylinders = 8\n",
    "\n",
    "    def print_origin(self):\n",
    "        return 'I was built in Italy!'\n",
    "\n",
    "    def get_cylinders(self):\n",
    "        return self.cylinders#如果括号里的self改了，这里的self也要改"
   ]
  },
  {
   "cell_type": "code",
   "execution_count": 14,
   "metadata": {},
   "outputs": [
    {
     "data": {
      "text/plain": [
       "8"
      ]
     },
     "execution_count": 14,
     "metadata": {},
     "output_type": "execute_result"
    }
   ],
   "source": [
    "myferrari = Ferrari458_v2()\n",
    "myferrari.get_cylinders()"
   ]
  },
  {
   "cell_type": "markdown",
   "metadata": {},
   "source": [
    "### `__init__`\n",
    "\n",
    "There is a special function called `__init__` that will instantiate objects for you.\n",
    "Let's look at another version of the class with __init__."
   ]
  },
  {
   "cell_type": "code",
   "execution_count": 16,
   "metadata": {},
   "outputs": [],
   "source": [
    "class Ferrari458_v3:\n",
    "    \"\"\"this is a Ferrari 458 object\"\"\"\n",
    "    \n",
    "    def __init__(self, cylinders):#这是两个下划线\n",
    "        self.cylinders = cylinders\n",
    "\n",
    "    def print_origin(self):\n",
    "        return 'I was built in Italy!'\n",
    "\n",
    "    def get_cylinders(self):\n",
    "        return self.cylinders"
   ]
  },
  {
   "cell_type": "markdown",
   "metadata": {},
   "source": [
    "By adding the `__init__` function, we can create objects if we pass the number of cylinders.  \n",
    "If we don't pass this parameter, there will be an error."
   ]
  },
  {
   "cell_type": "code",
   "execution_count": 25,
   "metadata": {},
   "outputs": [
    {
     "ename": "TypeError",
     "evalue": "Ferrari458_v3.__init__() missing 1 required positional argument: 'cylinders'",
     "output_type": "error",
     "traceback": [
      "\u001b[1;31m---------------------------------------------------------------------------\u001b[0m",
      "\u001b[1;31mTypeError\u001b[0m                                 Traceback (most recent call last)",
      "Cell \u001b[1;32mIn[25], line 3\u001b[0m\n\u001b[0;32m      1\u001b[0m \u001b[38;5;66;03m# this breaks as cylinders is required\u001b[39;00m\n\u001b[1;32m----> 3\u001b[0m ferr1 \u001b[38;5;241m=\u001b[39m Ferrari458_v3()\n",
      "\u001b[1;31mTypeError\u001b[0m: Ferrari458_v3.__init__() missing 1 required positional argument: 'cylinders'"
     ]
    }
   ],
   "source": [
    "# this breaks as cylinders is required\n",
    "\n",
    "ferr1 = Ferrari458_v3()"
   ]
  },
  {
   "cell_type": "code",
   "execution_count": 18,
   "metadata": {},
   "outputs": [],
   "source": [
    "# this works\n",
    "\n",
    "ferr1 = Ferrari458_v3(12)"
   ]
  },
  {
   "cell_type": "code",
   "execution_count": 20,
   "metadata": {},
   "outputs": [
    {
     "data": {
      "text/plain": [
       "12"
      ]
     },
     "execution_count": 20,
     "metadata": {},
     "output_type": "execute_result"
    }
   ],
   "source": [
    "# get the cylinders attribute using the \"dot\" operator\n",
    "\n",
    "ferr1.cylinders"
   ]
  },
  {
   "cell_type": "code",
   "execution_count": 22,
   "metadata": {},
   "outputs": [
    {
     "data": {
      "text/plain": [
       "12"
      ]
     },
     "execution_count": 22,
     "metadata": {},
     "output_type": "execute_result"
    }
   ],
   "source": [
    "# get the cylinders by calling the method\n",
    "\n",
    "ferr1.get_cylinders()"
   ]
  },
  {
   "cell_type": "markdown",
   "metadata": {},
   "source": [
    "Now you know some basics about `classes` to get you started. Be sure to review the source documentation to learn more!"
   ]
  },
  {
   "cell_type": "markdown",
   "metadata": {},
   "source": [
    "---"
   ]
  },
  {
   "cell_type": "markdown",
   "metadata": {},
   "source": [
    "### TRY FOR YOURSELF (UNGRADED EXERCISES)"
   ]
  },
  {
   "cell_type": "markdown",
   "metadata": {},
   "source": [
    "Create your own class, which needs to contain the following:\n",
    "- a docstring\n",
    "- an `__init__` function\n",
    "- at least two attributes\n",
    "- at least two methods"
   ]
  },
  {
   "cell_type": "code",
   "execution_count": 24,
   "metadata": {},
   "outputs": [],
   "source": [
    "# enter your class here\n",
    "class streets_minmax:\n",
    "    \"\"\"This is the nunber of minimum and maxmum streets in Manhattan\"\"\"\n",
    "    def __init__(self, min, max):\n",
    "        self.min = min\n",
    "        self.max = max\n",
    "    \n",
    "    def range(self):\n",
    "        return self.max - self.min\n",
    "\n",
    "    def average_number(self):\n",
    "        return (self.max + self.min)/2"
   ]
  },
  {
   "cell_type": "code",
   "execution_count": 26,
   "metadata": {},
   "outputs": [],
   "source": [
    "class hudm5001:\n",
    "    \"\"\"This class is about course, programming for datascience.\"\"\"\n",
    "    def __init__(self, numStudents, numCA):\n",
    "        self.numStudents = numStudents\n",
    "        self.numCA = numCA\n",
    "        \n",
    "    def student_staff_ratio(self, numInstructor):\n",
    "        return (self.numCA + numInstructor)/self.numStudents\n",
    "        \n",
    "    def availableSlots(self):\n",
    "        return 40 - self.numStudents"
   ]
  },
  {
   "cell_type": "code",
   "execution_count": 28,
   "metadata": {},
   "outputs": [],
   "source": [
    "a = hudm5001(39,2)"
   ]
  },
  {
   "cell_type": "code",
   "execution_count": 30,
   "metadata": {},
   "outputs": [
    {
     "data": {
      "text/plain": [
       "2"
      ]
     },
     "execution_count": 30,
     "metadata": {},
     "output_type": "execute_result"
    }
   ],
   "source": [
    "a.numCA"
   ]
  },
  {
   "cell_type": "code",
   "execution_count": 32,
   "metadata": {},
   "outputs": [
    {
     "data": {
      "text/plain": [
       "0.07692307692307693"
      ]
     },
     "execution_count": 32,
     "metadata": {},
     "output_type": "execute_result"
    }
   ],
   "source": [
    "a.student_staff_ratio(1)"
   ]
  },
  {
   "cell_type": "code",
   "execution_count": 34,
   "metadata": {},
   "outputs": [
    {
     "data": {
      "text/plain": [
       "1"
      ]
     },
     "execution_count": 34,
     "metadata": {},
     "output_type": "execute_result"
    }
   ],
   "source": [
    "a.availableSlots()#没有参数也要加括号，输出的就是计算结果，如果不加括号输出的是这个method本身"
   ]
  },
  {
   "cell_type": "markdown",
   "metadata": {},
   "source": [
    "Now that you've defined your class, do these tasks in cells below:\n",
    "- create an object by passing the parameters required by `__init__`\n",
    "- use object.attribute to show each attribute\n",
    "- call each of the methods"
   ]
  },
  {
   "cell_type": "code",
   "execution_count": 36,
   "metadata": {},
   "outputs": [],
   "source": [
    "b = streets_minmax(1,128)"
   ]
  },
  {
   "cell_type": "code",
   "execution_count": 38,
   "metadata": {},
   "outputs": [
    {
     "data": {
      "text/plain": [
       "127"
      ]
     },
     "execution_count": 38,
     "metadata": {},
     "output_type": "execute_result"
    }
   ],
   "source": [
    "b.range()"
   ]
  },
  {
   "cell_type": "code",
   "execution_count": 40,
   "metadata": {},
   "outputs": [
    {
     "data": {
      "text/plain": [
       "64.5"
      ]
     },
     "execution_count": 40,
     "metadata": {},
     "output_type": "execute_result"
    }
   ],
   "source": [
    "b.average_number()"
   ]
  },
  {
   "cell_type": "markdown",
   "metadata": {},
   "source": [
    "---"
   ]
  },
  {
   "cell_type": "code",
   "execution_count": 42,
   "metadata": {},
   "outputs": [
    {
     "name": "stdout",
     "output_type": "stream",
     "text": [
      "the average number is:  64.5\n"
     ]
    }
   ],
   "source": [
    "print(\"the average number is: \", b.average_number())"
   ]
  },
  {
   "cell_type": "code",
   "execution_count": null,
   "metadata": {},
   "outputs": [],
   "source": []
  }
 ],
 "metadata": {
  "anaconda-cloud": {},
  "kernelspec": {
   "display_name": "Python 3 (ipykernel)",
   "language": "python",
   "name": "python3"
  },
  "language_info": {
   "codemirror_mode": {
    "name": "ipython",
    "version": 3
   },
   "file_extension": ".py",
   "mimetype": "text/x-python",
   "name": "python",
   "nbconvert_exporter": "python",
   "pygments_lexer": "ipython3",
   "version": "3.12.4"
  }
 },
 "nbformat": 4,
 "nbformat_minor": 4
}
