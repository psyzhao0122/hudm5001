{
 "cells": [
  {
   "cell_type": "markdown",
   "metadata": {},
   "source": [
    "## Iterables and Iterators\n",
    "\n",
    "\n",
    "### Programming for Data Science\n",
    "### Last Updated: Jan 15, 2023\n",
    "---  \n",
    "\n",
    "### PREREQUISITES\n",
    "- data types\n",
    "- variables\n",
    "- `for-loop`\n",
    "\n",
    "### SOURCES \n",
    "- Iterable objects  \n",
    "http://tutorial.eyehunts.com/python/python-iterable-object-lists-tuples-dictionaries-and-sets/\n",
    "\n",
    "\n",
    "- Iterators  \n",
    "https://www.geeksforgeeks.org/iterators-in-python/\n",
    "\n",
    "\n",
    "### OBJECTIVES\n",
    "- Define iterables and iterators\n",
    "- Using two methods, show how iterators can be used to return data from sets, lists, strings, tuples, dicts:\n",
    "  - `for-loop`    \n",
    "  - `__iter__()` and `__next__()` \n",
    " \n",
    "\n",
    "\n",
    "### CONCEPTS\n",
    "\n",
    "- `iterable objects` or `iterables`\n",
    "- iterators\n",
    "- iteration\n",
    "- sequence\n",
    "- collection\n",
    "\n",
    "\n",
    "---\n",
    "\n",
    "### I. Defining Iterables and Iterators\n",
    "\n",
    "`Iterable objects` or `iterables` can return elements one at a time  \n",
    "\n",
    "An `iterator` is an object that iterates over iterable objects such as sets, lists, tuples, dictionaries, and strings  \n",
    "\n",
    "`Iteration` can be implemented: \n",
    "- with a `for-loop` \n",
    "- with the `__next__()` method\n",
    "\n",
    "Next, we show examples for various iterables."
   ]
  },
  {
   "cell_type": "markdown",
   "metadata": {},
   "source": [
    "### II. Lists"
   ]
  },
  {
   "cell_type": "markdown",
   "metadata": {},
   "source": [
    "**iterating using `for-loop`**"
   ]
  },
  {
   "cell_type": "code",
   "execution_count": 2,
   "metadata": {},
   "outputs": [
    {
     "name": "stdout",
     "output_type": "stream",
     "text": [
      "living room\n",
      "was\n",
      "quite\n",
      "large\n"
     ]
    }
   ],
   "source": [
    "tokens = ['living room','was','quite','large']\n",
    "\n",
    "for tok in tokens:\n",
    "    print(tok)"
   ]
  },
  {
   "cell_type": "markdown",
   "metadata": {},
   "source": [
    "**iterating using `__iter__()` and `__next__()`**\n",
    "\n",
    "`__iter__()` - gets an iterator  \n",
    "`__next__()` - gets the next item from the iterator "
   ]
  },
  {
   "cell_type": "code",
   "execution_count": 4,
   "metadata": {},
   "outputs": [
    {
     "name": "stdout",
     "output_type": "stream",
     "text": [
      "living room\n",
      "was\n",
      "quite\n",
      "large\n"
     ]
    }
   ],
   "source": [
    "tokens = ['living room','was','quite','large']\n",
    "myit = iter(tokens)\n",
    "print(next(myit)) \n",
    "print(next(myit))\n",
    "print(next(myit)) \n",
    "print(next(myit)) "
   ]
  },
  {
   "cell_type": "markdown",
   "metadata": {},
   "source": [
    "Calling `next()` when the iterator has reached the end of the list produces an exception:"
   ]
  },
  {
   "cell_type": "code",
   "execution_count": 7,
   "metadata": {},
   "outputs": [
    {
     "ename": "StopIteration",
     "evalue": "",
     "output_type": "error",
     "traceback": [
      "\u001b[1;31m---------------------------------------------------------------------------\u001b[0m",
      "\u001b[1;31mStopIteration\u001b[0m                             Traceback (most recent call last)",
      "Cell \u001b[1;32mIn[7], line 1\u001b[0m\n\u001b[1;32m----> 1\u001b[0m \u001b[38;5;28mprint\u001b[39m(\u001b[38;5;28mnext\u001b[39m(myit))\n",
      "\u001b[1;31mStopIteration\u001b[0m: "
     ]
    }
   ],
   "source": [
    "print(next(myit))"
   ]
  },
  {
   "cell_type": "markdown",
   "metadata": {},
   "source": [
    "Next, look at the type of the iterator, and the documentation"
   ]
  },
  {
   "cell_type": "code",
   "execution_count": 9,
   "metadata": {},
   "outputs": [
    {
     "data": {
      "text/plain": [
       "list_iterator"
      ]
     },
     "execution_count": 9,
     "metadata": {},
     "output_type": "execute_result"
    }
   ],
   "source": [
    "type(myit)"
   ]
  },
  {
   "cell_type": "code",
   "execution_count": 11,
   "metadata": {
    "scrolled": true
   },
   "outputs": [
    {
     "name": "stdout",
     "output_type": "stream",
     "text": [
      "Help on list_iterator object:\n",
      "\n",
      "class list_iterator(object)\n",
      " |  Methods defined here:\n",
      " |\n",
      " |  __getattribute__(self, name, /)\n",
      " |      Return getattr(self, name).\n",
      " |\n",
      " |  __iter__(self, /)\n",
      " |      Implement iter(self).\n",
      " |\n",
      " |  __length_hint__(...)\n",
      " |      Private method returning an estimate of len(list(it)).\n",
      " |\n",
      " |  __next__(self, /)\n",
      " |      Implement next(self).\n",
      " |\n",
      " |  __reduce__(...)\n",
      " |      Return state information for pickling.\n",
      " |\n",
      " |  __setstate__(...)\n",
      " |      Set state information for unpickling.\n",
      "\n"
     ]
    }
   ],
   "source": [
    "help(myit)"
   ]
  },
  {
   "cell_type": "code",
   "execution_count": 13,
   "metadata": {},
   "outputs": [
    {
     "name": "stdout",
     "output_type": "stream",
     "text": [
      "Help on built-in function next in module builtins:\n",
      "\n",
      "next(...)\n",
      "    Return the next item from the iterator.\n",
      "\n",
      "    If default is given and the iterator is exhausted,\n",
      "    it is returned instead of raising StopIteration.\n",
      "\n"
     ]
    }
   ],
   "source": [
    "help(next)"
   ]
  },
  {
   "cell_type": "markdown",
   "metadata": {},
   "source": [
    "### III. More Detail on Iterables\n",
    "\n",
    "Iterables support the method `__iter__()` for getting an iterator\n",
    "\n",
    "Get the next item from an iterator with method `__next__()`\n",
    "\n",
    "`for-loop` creates an iterator and executes `next()` on each loop iteration.  \n",
    "this is best way to iterate through an iterable."
   ]
  },
  {
   "cell_type": "markdown",
   "metadata": {},
   "source": [
    "### IV. Sequences and Collections\n",
    "\n",
    "We iterated over a list. Next we will illustrate for other iterables: `str`, `tuple`, `set`, `dict`\n",
    "\n",
    "lists, tuples, and strings are `sequences`. Sequences are designed so that elements come out of them in the same order they were put in.\n",
    "\n",
    "sets and dictionaries are not sequences, since they don't keep elements in order.\n",
    "They are called `collections`.  The ordering of the items is arbitrary."
   ]
  },
  {
   "cell_type": "markdown",
   "metadata": {},
   "source": [
    "### V. Sets"
   ]
  },
  {
   "cell_type": "markdown",
   "metadata": {},
   "source": [
    "**iterating using `for-loop`**"
   ]
  },
  {
   "cell_type": "code",
   "execution_count": 9,
   "metadata": {},
   "outputs": [
    {
     "name": "stdout",
     "output_type": "stream",
     "text": [
      "belle\n",
      "rapunzel\n",
      "cinderella\n"
     ]
    }
   ],
   "source": [
    "princesses = {'belle','cinderella','rapunzel'}\n",
    "\n",
    "for princess in princesses:\n",
    "    print(princess)"
   ]
  },
  {
   "cell_type": "markdown",
   "metadata": {},
   "source": [
    "**iterating using `__iter__()` and `__next__()`**"
   ]
  },
  {
   "cell_type": "code",
   "execution_count": 11,
   "metadata": {},
   "outputs": [
    {
     "name": "stdout",
     "output_type": "stream",
     "text": [
      "belle\n",
      "rapunzel\n",
      "cinderella\n"
     ]
    }
   ],
   "source": [
    "princesses = {'belle','cinderella','rapunzel'}\n",
    "\n",
    "myset = iter(princesses) # note: set has no notion of order\n",
    "print(next(myset))\n",
    "print(next(myset))\n",
    "print(next(myset))"
   ]
  },
  {
   "cell_type": "markdown",
   "metadata": {},
   "source": [
    "### VI. Strings"
   ]
  },
  {
   "cell_type": "markdown",
   "metadata": {},
   "source": [
    "**iterating using `for-loop`**"
   ]
  },
  {
   "cell_type": "code",
   "execution_count": 15,
   "metadata": {},
   "outputs": [
    {
     "name": "stdout",
     "output_type": "stream",
     "text": [
      "d\n",
      "a\n",
      "t\n",
      "a\n"
     ]
    }
   ],
   "source": [
    "strn = 'data'\n",
    "\n",
    "for s in strn:\n",
    "    print(s)"
   ]
  },
  {
   "cell_type": "markdown",
   "metadata": {},
   "source": [
    "**iterating using `__iter__()` and `__next__()`**"
   ]
  },
  {
   "cell_type": "code",
   "execution_count": 17,
   "metadata": {},
   "outputs": [
    {
     "name": "stdout",
     "output_type": "stream",
     "text": [
      "d\n",
      "a\n",
      "t\n",
      "a\n"
     ]
    }
   ],
   "source": [
    "st = iter(strn)\n",
    "\n",
    "print(next(st))\n",
    "print(next(st))\n",
    "print(next(st))\n",
    "print(next(st))"
   ]
  },
  {
   "cell_type": "markdown",
   "metadata": {},
   "source": [
    "### VII. Tuples"
   ]
  },
  {
   "cell_type": "markdown",
   "metadata": {},
   "source": [
    "**iterating using `for-loop`**"
   ]
  },
  {
   "cell_type": "code",
   "execution_count": 8,
   "metadata": {},
   "outputs": [
    {
     "name": "stdout",
     "output_type": "stream",
     "text": [
      "auc\n",
      "recall\n",
      "precision\n",
      "support\n"
     ]
    }
   ],
   "source": [
    "metrics = ('auc','recall','precision','support')\n",
    "\n",
    "for met in metrics:\n",
    "    print(met)"
   ]
  },
  {
   "cell_type": "markdown",
   "metadata": {},
   "source": [
    "**iterating using `__iter__()` and `__next__()`**"
   ]
  },
  {
   "cell_type": "code",
   "execution_count": 21,
   "metadata": {},
   "outputs": [
    {
     "name": "stdout",
     "output_type": "stream",
     "text": [
      "auc\n",
      "recall\n",
      "precision\n",
      "support\n"
     ]
    }
   ],
   "source": [
    "metrics = ('auc','recall','precision','support')\n",
    "\n",
    "tup_metrics = iter(metrics)\n",
    "print(next(tup_metrics))\n",
    "print(next(tup_metrics))\n",
    "print(next(tup_metrics))\n",
    "print(next(tup_metrics))"
   ]
  },
  {
   "cell_type": "markdown",
   "metadata": {},
   "source": [
    "### VIII. Dictionaries"
   ]
  },
  {
   "cell_type": "markdown",
   "metadata": {},
   "source": [
    "We show the `for-loop` method only, as this is most common.\n",
    "\n",
    "**iterating using `for-loop`**"
   ]
  },
  {
   "cell_type": "code",
   "execution_count": 25,
   "metadata": {},
   "outputs": [],
   "source": [
    "courses = {'fall':['regression','python'], 'spring':['capstone','pyspark','nlp']}"
   ]
  },
  {
   "cell_type": "code",
   "execution_count": 27,
   "metadata": {},
   "outputs": [
    {
     "name": "stdout",
     "output_type": "stream",
     "text": [
      "fall\n",
      "spring\n"
     ]
    }
   ],
   "source": [
    "# iterate over keys\n",
    "\n",
    "for k in courses:\n",
    "    print(k)"
   ]
  },
  {
   "cell_type": "code",
   "execution_count": 29,
   "metadata": {},
   "outputs": [
    {
     "name": "stdout",
     "output_type": "stream",
     "text": [
      "fall\n",
      "spring\n"
     ]
    }
   ],
   "source": [
    "# iterate over keys, using keys() method\n",
    "\n",
    "for k in courses.keys():\n",
    "    print(k)"
   ]
  },
  {
   "cell_type": "code",
   "execution_count": 31,
   "metadata": {},
   "outputs": [
    {
     "name": "stdout",
     "output_type": "stream",
     "text": [
      "['regression', 'python']\n",
      "['capstone', 'pyspark', 'nlp']\n"
     ]
    }
   ],
   "source": [
    "# iterate over values\n",
    "\n",
    "for v in courses.values():\n",
    "    print(v)"
   ]
  },
  {
   "cell_type": "code",
   "execution_count": 33,
   "metadata": {},
   "outputs": [
    {
     "name": "stdout",
     "output_type": "stream",
     "text": [
      "key  : fall\n",
      "value: ['regression', 'python']\n",
      "----------------------------------------\n",
      "key  : spring\n",
      "value: ['capstone', 'pyspark', 'nlp']\n",
      "----------------------------------------\n"
     ]
    }
   ],
   "source": [
    "# iterate over keys and values using `items()`\n",
    "\n",
    "for k, v in courses.items():\n",
    "    print(\"key  :\", k)\n",
    "    print(\"value:\", v)\n",
    "    print(\"-\"*40)"
   ]
  },
  {
   "cell_type": "markdown",
   "metadata": {},
   "source": [
    "alternatively, keys and values can be extracted from the dict by:\n",
    "- looping over the keys\n",
    "- extract the value by indexing into the dict with the key"
   ]
  },
  {
   "cell_type": "code",
   "execution_count": 35,
   "metadata": {},
   "outputs": [
    {
     "name": "stdout",
     "output_type": "stream",
     "text": [
      "key  : fall\n",
      "value: ['regression', 'python']\n",
      "----------------------------------------\n",
      "key  : spring\n",
      "value: ['capstone', 'pyspark', 'nlp']\n",
      "----------------------------------------\n"
     ]
    }
   ],
   "source": [
    "# iterate over keys and values using `key()`.\n",
    "\n",
    "for k in courses.keys():\n",
    "    print(\"key  :\", k)\n",
    "    print(\"value:\", courses[k]) # index into the dict with the key\n",
    "    print(\"-\"*40)"
   ]
  },
  {
   "cell_type": "markdown",
   "metadata": {},
   "source": [
    "enumerate() will return the index, key for each row"
   ]
  },
  {
   "cell_type": "code",
   "execution_count": 37,
   "metadata": {},
   "outputs": [
    {
     "name": "stdout",
     "output_type": "stream",
     "text": [
      "(0, 'fall')\n",
      "(1, 'spring')\n"
     ]
    }
   ],
   "source": [
    "for k in enumerate(courses):\n",
    "    print(k)"
   ]
  },
  {
   "cell_type": "markdown",
   "metadata": {},
   "source": [
    "---"
   ]
  },
  {
   "cell_type": "markdown",
   "metadata": {},
   "source": [
    "### TRY FOR YOURSELF (UNGRADED EXERCISES)"
   ]
  },
  {
   "cell_type": "markdown",
   "metadata": {},
   "source": [
    "1a) Create a list of strings, where each string contains a mix of uppercase and lowercase letters.  \n",
    "Write a `for-loop` to iterate over the strings and:\n",
    "- lowercase the string (hint: `lower()`)\n",
    "- print the string"
   ]
  },
  {
   "cell_type": "code",
   "execution_count": null,
   "metadata": {},
   "outputs": [],
   "source": []
  },
  {
   "cell_type": "code",
   "execution_count": 39,
   "metadata": {},
   "outputs": [
    {
     "name": "stdout",
     "output_type": "stream",
     "text": [
      "john\n",
      "paul\n",
      "george\n",
      "ringo\n"
     ]
    }
   ],
   "source": [
    "names = ['John', 'Paul', 'George', 'Ringo']\n",
    "\n",
    "for name in names:\n",
    "    print(name.lower())"
   ]
  },
  {
   "cell_type": "markdown",
   "metadata": {},
   "source": [
    "1b) Using the list from (1a), use `iter()` and `next()` to iterate over the list, printing each string.  \n",
    "The strings don't need to be lowercased."
   ]
  },
  {
   "cell_type": "code",
   "execution_count": null,
   "metadata": {},
   "outputs": [],
   "source": []
  },
  {
   "cell_type": "code",
   "execution_count": 41,
   "metadata": {},
   "outputs": [
    {
     "name": "stdout",
     "output_type": "stream",
     "text": [
      "John\n",
      "Paul\n",
      "George\n",
      "Ringo\n"
     ]
    }
   ],
   "source": [
    "beatles = iter(names)\n",
    "print(next(beatles))\n",
    "print(next(beatles))\n",
    "print(next(beatles))\n",
    "print(next(beatles))"
   ]
  },
  {
   "cell_type": "markdown",
   "metadata": {},
   "source": [
    "2a) Create a dictionary. Use a `for-loop` with `items()` to print each key-value pair."
   ]
  },
  {
   "cell_type": "code",
   "execution_count": null,
   "metadata": {},
   "outputs": [],
   "source": []
  },
  {
   "cell_type": "code",
   "execution_count": 43,
   "metadata": {},
   "outputs": [
    {
     "name": "stdout",
     "output_type": "stream",
     "text": [
      "Santa Barbara 93103\n",
      "Charlottesville 22903\n"
     ]
    }
   ],
   "source": [
    "city_zip = {'Santa Barbara':93103, 'Charlottesville':22903}\n",
    "\n",
    "for cit, zi in city_zip.items():\n",
    "    print(cit, zi)"
   ]
  },
  {
   "cell_type": "markdown",
   "metadata": {},
   "source": [
    "2b) Using the dictionary from (2a), use a `for-loop` with `key()` to print each key-value pair.  \n",
    "To extract the values, use the key to index into the dict."
   ]
  },
  {
   "cell_type": "code",
   "execution_count": null,
   "metadata": {},
   "outputs": [],
   "source": []
  },
  {
   "cell_type": "code",
   "execution_count": 18,
   "metadata": {},
   "outputs": [
    {
     "name": "stdout",
     "output_type": "stream",
     "text": [
      "Santa Barbara 93103\n",
      "Charlottesville 22903\n"
     ]
    }
   ],
   "source": [
    "city_zip = {'Santa Barbara':93103, 'Charlottesville':22903}\n",
    "\n",
    "for cit in city_zip.keys():\n",
    "    print(cit, city_zip[cit])"
   ]
  },
  {
   "cell_type": "markdown",
   "metadata": {},
   "source": [
    "---"
   ]
  }
 ],
 "metadata": {
  "anaconda-cloud": {},
  "kernelspec": {
   "display_name": "Python 3 (ipykernel)",
   "language": "python",
   "name": "python3"
  },
  "language_info": {
   "codemirror_mode": {
    "name": "ipython",
    "version": 3
   },
   "file_extension": ".py",
   "mimetype": "text/x-python",
   "name": "python",
   "nbconvert_exporter": "python",
   "pygments_lexer": "ipython3",
   "version": "3.12.4"
  }
 },
 "nbformat": 4,
 "nbformat_minor": 4
}
